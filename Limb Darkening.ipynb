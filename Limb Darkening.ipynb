{
 "cells": [
  {
   "cell_type": "code",
   "execution_count": 16,
   "metadata": {},
   "outputs": [],
   "source": [
    "from pandeia.engine.instrument_factory import InstrumentFactory\n",
    "import matplotlib.pyplot as plt\n",
    "import numpy as np\n",
    "from ldtk import LDPSetCreator, TabulatedFilter"
   ]
  },
  {
   "cell_type": "code",
   "execution_count": 14,
   "metadata": {},
   "outputs": [],
   "source": [
    "UM_TO_NM = 1e3"
   ]
  },
  {
   "cell_type": "code",
   "execution_count": 10,
   "metadata": {},
   "outputs": [],
   "source": [
    "# MIRI LRS Slit\n",
    " \n",
    "conf={\n",
    "    \"detector\": {\n",
    "    \"nexp\": 1,\n",
    "    \"ngroup\": 10,\n",
    "    \"nint\": 1,\n",
    "    \"readout_pattern\": \"fastr1\",\n",
    "    \"subarray\": \"full\"\n",
    "    },\n",
    "    \"dynamic_scene\": True,\n",
    "    \"instrument\": {\n",
    "        \"aperture\": \"lrsslit\",\n",
    "        \"disperser\": \"p750l\",\n",
    "        \"instrument\": \"miri\",\n",
    "        \"mode\": \"lrsslit\"\n",
    "    },\n",
    "}"
   ]
  },
  {
   "cell_type": "code",
   "execution_count": 11,
   "metadata": {},
   "outputs": [],
   "source": [
    "# set up your wavelengths\n",
    "wave = np.linspace(5, 12, 100)\n",
    " \n",
    "# create a configured instrument\n",
    "instrument_factory = InstrumentFactory(config=conf)\n",
    " \n",
    "# where conf is a configuration dictionary for a calculation:\n",
    "#     see below for examples\n",
    " \n",
    "# get the throughput of the instrument over the desired wavelength range\n",
    "eff = instrument_factory.get_total_eff(wave)"
   ]
  },
  {
   "cell_type": "code",
   "execution_count": 18,
   "metadata": {},
   "outputs": [],
   "source": [
    "filters = [TabulatedFilter('MIRI LRS', wave * UM_TO_NM, eff)]"
   ]
  },
  {
   "cell_type": "code",
   "execution_count": 20,
   "metadata": {},
   "outputs": [],
   "source": [
    "sc = LDPSetCreator(teff=(4600, 150),    # Define your star, and the code\n",
    "                   logg=(4.595, 0.019),    # downloads the uncached stellar\n",
    "                      z=(-0.02, 0.12),    # spectra from the Husser et al.\n",
    "                     filters=filters)    # FTP server automatically.\n",
    "ps = sc.create_profiles() \n",
    "coeffs, errors = ps.coeffs_nl(do_mc=True)  "
   ]
  },
  {
   "cell_type": "code",
   "execution_count": 21,
   "metadata": {},
   "outputs": [
    {
     "name": "stdout",
     "output_type": "stream",
     "text": [
      "[[0.1 0.1 0.1 0.1]]\n",
      "[[3.33275531e-16 3.33275531e-16 3.33275531e-16 3.33275531e-16]]\n"
     ]
    }
   ],
   "source": [
    "print(coeffs)\n",
    "print(errors)"
   ]
  },
  {
   "cell_type": "code",
   "execution_count": 23,
   "metadata": {},
   "outputs": [
    {
     "name": "stdout",
     "output_type": "stream",
     "text": [
      "[ 5000.          5070.70707071  5141.41414141  5212.12121212\n",
      "  5282.82828283  5353.53535354  5424.24242424  5494.94949495\n",
      "  5565.65656566  5636.36363636  5707.07070707  5777.77777778\n",
      "  5848.48484848  5919.19191919  5989.8989899   6060.60606061\n",
      "  6131.31313131  6202.02020202  6272.72727273  6343.43434343\n",
      "  6414.14141414  6484.84848485  6555.55555556  6626.26262626\n",
      "  6696.96969697  6767.67676768  6838.38383838  6909.09090909\n",
      "  6979.7979798   7050.50505051  7121.21212121  7191.91919192\n",
      "  7262.62626263  7333.33333333  7404.04040404  7474.74747475\n",
      "  7545.45454545  7616.16161616  7686.86868687  7757.57575758\n",
      "  7828.28282828  7898.98989899  7969.6969697   8040.4040404\n",
      "  8111.11111111  8181.81818182  8252.52525253  8323.23232323\n",
      "  8393.93939394  8464.64646465  8535.35353535  8606.06060606\n",
      "  8676.76767677  8747.47474747  8818.18181818  8888.88888889\n",
      "  8959.5959596   9030.3030303   9101.01010101  9171.71717172\n",
      "  9242.42424242  9313.13131313  9383.83838384  9454.54545455\n",
      "  9525.25252525  9595.95959596  9666.66666667  9737.37373737\n",
      "  9808.08080808  9878.78787879  9949.49494949 10020.2020202\n",
      " 10090.90909091 10161.61616162 10232.32323232 10303.03030303\n",
      " 10373.73737374 10444.44444444 10515.15151515 10585.85858586\n",
      " 10656.56565657 10727.27272727 10797.97979798 10868.68686869\n",
      " 10939.39393939 11010.1010101  11080.80808081 11151.51515152\n",
      " 11222.22222222 11292.92929293 11363.63636364 11434.34343434\n",
      " 11505.05050505 11575.75757576 11646.46464646 11717.17171717\n",
      " 11787.87878788 11858.58585859 11929.29292929 12000.        ]\n"
     ]
    }
   ],
   "source": [
    "print(wave*UM_TO_NM)"
   ]
  },
  {
   "cell_type": "code",
   "execution_count": null,
   "metadata": {},
   "outputs": [],
   "source": []
  }
 ],
 "metadata": {
  "kernelspec": {
   "display_name": "Python 3",
   "language": "python",
   "name": "python3"
  },
  "language_info": {
   "codemirror_mode": {
    "name": "ipython",
    "version": 3
   },
   "file_extension": ".py",
   "mimetype": "text/x-python",
   "name": "python",
   "nbconvert_exporter": "python",
   "pygments_lexer": "ipython3",
   "version": "3.7.3"
  }
 },
 "nbformat": 4,
 "nbformat_minor": 4
}
